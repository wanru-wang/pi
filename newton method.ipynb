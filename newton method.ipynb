{
 "cells": [
  {
   "cell_type": "code",
   "execution_count": 39,
   "id": "f1011c07",
   "metadata": {},
   "outputs": [],
   "source": [
    "import math\n",
    "from decimal import *"
   ]
  },
  {
   "cell_type": "code",
   "execution_count": 15,
   "id": "5cf9440c",
   "metadata": {},
   "outputs": [],
   "source": [
    "def comb(self):\n",
    "    a = 1\n",
    "    for i in range(self):\n",
    "        a = a* (1/2 - i)\n",
    "    b = math.factorial(int(self))\n",
    "    return a/b\n",
    "def coef_and_power(self):\n",
    "    power = self\n",
    "    c1 = comb(power) * ((-1/2)**power)\n",
    "    newpower = power + 1/2\n",
    "    newcoef = c1 * (2**(1/2))\n",
    "    return newpower, newcoef\n",
    "def intergral(power, coef):\n",
    "    return coef / (power + 1)"
   ]
  },
  {
   "cell_type": "code",
   "execution_count": 16,
   "id": "bf119026",
   "metadata": {},
   "outputs": [
    {
     "name": "stdout",
     "output_type": "stream",
     "text": [
      "3.1415926535897922\n"
     ]
    }
   ],
   "source": [
    "result = 0\n",
    "for i in range(40):\n",
    "    power, coef = coef_and_power(i) \n",
    "    a = intergral(power, coef)   \n",
    "    result = result + a\n",
    "\n",
    "    \n",
    "print(result*4)"
   ]
  },
  {
   "cell_type": "code",
   "execution_count": 73,
   "id": "d2d5a78b",
   "metadata": {},
   "outputs": [
    {
     "data": {
      "text/plain": [
       "Decimal('0.1428571428571428571428571428571428571429')"
      ]
     },
     "execution_count": 73,
     "metadata": {},
     "output_type": "execute_result"
    }
   ],
   "source": [
    "getcontext().prec = 40\n",
    "Decimal(1) / Decimal(7)"
   ]
  },
  {
   "cell_type": "code",
   "execution_count": 74,
   "id": "ec7b219e",
   "metadata": {},
   "outputs": [],
   "source": [
    "def comb(self):\n",
    "    a = Decimal(1)\n",
    "    for i in range(self):\n",
    "        a = a* Decimal((1/2 - i))\n",
    "    b = Decimal(math.factorial(int(self)))\n",
    "    x = Decimal(a/b)\n",
    "    return x\n",
    "def coef_and_power(self):\n",
    "    power = self\n",
    "    c1 = comb(power)\n",
    "    c2 = Decimal((-1/2)**power)\n",
    "    c3 = c1*c2\n",
    "    newpower = power + 1/2\n",
    "    newcoef = c3 * Decimal((2**(1/2)))\n",
    "    return newpower, newcoef\n",
    "def intergral(power, coef):\n",
    "    return Decimal(coef) / (Decimal(power) + 1)\n",
    "\n",
    "\n",
    "\n"
   ]
  },
  {
   "cell_type": "code",
   "execution_count": 75,
   "id": "386dac36",
   "metadata": {},
   "outputs": [
    {
     "name": "stdout",
     "output_type": "stream",
     "text": [
      "-0.000008923967556705513121679873555881673028905\n"
     ]
    }
   ],
   "source": [
    "print(comb(1000))"
   ]
  },
  {
   "cell_type": "code",
   "execution_count": 77,
   "id": "388e853c",
   "metadata": {},
   "outputs": [
    {
     "name": "stdout",
     "output_type": "stream",
     "text": [
      "3.141592653589793453215905985841533685048\n"
     ]
    }
   ],
   "source": [
    "result = Decimal(0)\n",
    "for i in range(10000):\n",
    "    power, coef = coef_and_power(i) \n",
    "    a = intergral(power, coef)\n",
    "    b = Decimal(a)\n",
    "    result = result + b\n",
    "\n",
    "    \n",
    "print(result*4)"
   ]
  },
  {
   "cell_type": "code",
   "execution_count": null,
   "id": "4e23ba46",
   "metadata": {},
   "outputs": [],
   "source": []
  }
 ],
 "metadata": {
  "kernelspec": {
   "display_name": "Python 3 (ipykernel)",
   "language": "python",
   "name": "python3"
  },
  "language_info": {
   "codemirror_mode": {
    "name": "ipython",
    "version": 3
   },
   "file_extension": ".py",
   "mimetype": "text/x-python",
   "name": "python",
   "nbconvert_exporter": "python",
   "pygments_lexer": "ipython3",
   "version": "3.9.12"
  },
  "vscode": {
   "interpreter": {
    "hash": "dcd2371fdaa956239ddcbf22dd0a14e423f58978640570ff3f56b5b38b51424a"
   }
  }
 },
 "nbformat": 4,
 "nbformat_minor": 5
}
